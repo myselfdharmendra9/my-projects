{
 "cells": [
  {
   "cell_type": "code",
   "execution_count": 3,
   "id": "b7eed572",
   "metadata": {},
   "outputs": [
    {
     "name": "stdout",
     "output_type": "stream",
     "text": [
      "Collecting phonenumbers\n",
      "  Downloading phonenumbers-8.13.0-py2.py3-none-any.whl (2.6 MB)\n",
      "Installing collected packages: phonenumbers\n",
      "Successfully installed phonenumbers-8.13.0\n"
     ]
    }
   ],
   "source": [
    "!pip install phonenumbers"
   ]
  },
  {
   "cell_type": "code",
   "execution_count": 34,
   "id": "4eb2aed8",
   "metadata": {},
   "outputs": [],
   "source": [
    "import phonenumbers  # inside in it geocoder"
   ]
  },
  {
   "cell_type": "code",
   "execution_count": 35,
   "id": "adbc807b",
   "metadata": {},
   "outputs": [],
   "source": [
    "# for direaction of exact location gio coder "
   ]
  },
  {
   "cell_type": "code",
   "execution_count": 36,
   "id": "bf6c1953",
   "metadata": {},
   "outputs": [],
   "source": [
    "from phonenumbers import geocoder"
   ]
  },
  {
   "cell_type": "code",
   "execution_count": 37,
   "id": "0c28ebb6",
   "metadata": {},
   "outputs": [],
   "source": [
    "# country sim"
   ]
  },
  {
   "cell_type": "code",
   "execution_count": 51,
   "id": "9a6af5aa",
   "metadata": {},
   "outputs": [
    {
     "data": {
      "text/plain": [
       "'India'"
      ]
     },
     "execution_count": 51,
     "metadata": {},
     "output_type": "execute_result"
    }
   ],
   "source": [
    "a = phonenumbers.parse(\"+919667858098\",\"CH\")\n",
    "geocoder.description_for_number(a,'en')"
   ]
  },
  {
   "cell_type": "code",
   "execution_count": 39,
   "id": "13c80cb8",
   "metadata": {},
   "outputs": [],
   "source": [
    "# carrer is for which company sim is "
   ]
  },
  {
   "cell_type": "code",
   "execution_count": 40,
   "id": "3424dd09",
   "metadata": {},
   "outputs": [],
   "source": [
    "from phonenumbers import carrier  #ro radio ooperator"
   ]
  },
  {
   "cell_type": "code",
   "execution_count": 52,
   "id": "47a6aad6",
   "metadata": {},
   "outputs": [
    {
     "data": {
      "text/plain": [
       "'Airtel'"
      ]
     },
     "execution_count": 52,
     "metadata": {},
     "output_type": "execute_result"
    }
   ],
   "source": [
    "b = phonenumbers.parse(\"+919667858098\",\"RO\")\n",
    "carrier.name_for_number(b,'en')"
   ]
  },
  {
   "cell_type": "code",
   "execution_count": 42,
   "id": "e060892a",
   "metadata": {},
   "outputs": [],
   "source": [
    "# new topic"
   ]
  },
  {
   "cell_type": "code",
   "execution_count": 43,
   "id": "b0e0bec2",
   "metadata": {},
   "outputs": [],
   "source": [
    "import phonenumbers"
   ]
  },
  {
   "cell_type": "code",
   "execution_count": 50,
   "id": "3edb492a",
   "metadata": {},
   "outputs": [],
   "source": [
    "# neww\n",
    "# !pip install phnnumbbers"
   ]
  },
  {
   "cell_type": "code",
   "execution_count": 31,
   "id": "9aaf8c9c",
   "metadata": {},
   "outputs": [],
   "source": [
    "import phonenumbers\n",
    "from phonenumbers import timezone,geocoder,carrier"
   ]
  },
  {
   "cell_type": "code",
   "execution_count": 53,
   "id": "55e9d7f8",
   "metadata": {},
   "outputs": [
    {
     "name": "stdout",
     "output_type": "stream",
     "text": [
      "Enter the number :+919667858098\n",
      "Country Code: 91 National Number: 9667858098\n",
      "('Asia/Calcutta',)\n",
      "Airtel\n",
      "India\n"
     ]
    }
   ],
   "source": [
    "number = input('Enter the number :')\n",
    "phone = phonenumbers.parse(number)\n",
    "time = timezone.time_zones_for_number(phone)\n",
    "car = carrier.name_for_number(phone,'en')\n",
    "reg = geocoder.description_for_number(phone,'en')\n",
    "print(phone)\n",
    "print(time)\n",
    "print(car)\n",
    "print(reg)"
   ]
  },
  {
   "cell_type": "code",
   "execution_count": null,
   "id": "aca9852e",
   "metadata": {},
   "outputs": [],
   "source": []
  }
 ],
 "metadata": {
  "kernelspec": {
   "display_name": "Python 3 (ipykernel)",
   "language": "python",
   "name": "python3"
  },
  "language_info": {
   "codemirror_mode": {
    "name": "ipython",
    "version": 3
   },
   "file_extension": ".py",
   "mimetype": "text/x-python",
   "name": "python",
   "nbconvert_exporter": "python",
   "pygments_lexer": "ipython3",
   "version": "3.9.12"
  }
 },
 "nbformat": 4,
 "nbformat_minor": 5
}
